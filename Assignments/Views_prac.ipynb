{
 "cells": [
  {
   "cell_type": "markdown",
   "metadata": {
    "application/vnd.databricks.v1+cell": {
     "cellMetadata": {},
     "inputWidgets": {},
     "nuid": "78b68ace-8188-40d1-b682-2613b7c5e2ce",
     "showTitle": false,
     "tableResultSettingsMap": {},
     "title": ""
    }
   },
   "source": [
    "**Read the CSV file and create a DataFrame**"
   ]
  },
  {
   "cell_type": "code",
   "execution_count": 0,
   "metadata": {
    "application/vnd.databricks.v1+cell": {
     "cellMetadata": {
      "byteLimit": 2048000,
      "rowLimit": 10000
     },
     "inputWidgets": {},
     "nuid": "6be15bea-f6c5-414b-bddc-87bedcc01a11",
     "showTitle": false,
     "tableResultSettingsMap": {},
     "title": ""
    }
   },
   "outputs": [
    {
     "output_type": "display_data",
     "data": {
      "text/html": [
       "<style scoped>\n",
       "  .table-result-container {\n",
       "    max-height: 300px;\n",
       "    overflow: auto;\n",
       "  }\n",
       "  table, th, td {\n",
       "    border: 1px solid black;\n",
       "    border-collapse: collapse;\n",
       "  }\n",
       "  th, td {\n",
       "    padding: 5px;\n",
       "  }\n",
       "  th {\n",
       "    text-align: left;\n",
       "  }\n",
       "</style><div class='table-result-container'><table class='table-result'><thead style='background-color: white'><tr><th>EMPLOYEE_ID</th><th>FIRST_NAME</th><th>LAST_NAME</th><th>EMAIL</th><th>PHONE_NUMBER</th><th>HIRE_DATE</th><th>JOB_ID</th><th>SALARY</th><th>COMMISSION_PCT</th><th>MANAGER_ID</th><th>DEPARTMENT_ID</th></tr></thead><tbody><tr><td>198</td><td>Donald</td><td>OConnell</td><td>DOCONNEL</td><td>650.507.9833</td><td>21-JUN-07</td><td>SH_CLERK</td><td>2600</td><td> - </td><td>124</td><td>50</td></tr><tr><td>199</td><td>Douglas</td><td>Grant</td><td>DGRANT</td><td>650.507.9844</td><td>13-JAN-08</td><td>SH_CLERK</td><td>2600</td><td> - </td><td>124</td><td>50</td></tr><tr><td>200</td><td>Jennifer</td><td>Whalen</td><td>JWHALEN</td><td>515.123.4444</td><td>17-SEP-03</td><td>AD_ASST</td><td>4400</td><td> - </td><td>101</td><td>10</td></tr><tr><td>201</td><td>Michael</td><td>Hartstein</td><td>MHARTSTE</td><td>515.123.5555</td><td>17-FEB-04</td><td>MK_MAN</td><td>13000</td><td> - </td><td>100</td><td>20</td></tr><tr><td>202</td><td>Pat</td><td>Fay</td><td>PFAY</td><td>603.123.6666</td><td>17-AUG-05</td><td>MK_REP</td><td>6000</td><td> - </td><td>201</td><td>20</td></tr><tr><td>203</td><td>Susan</td><td>Mavris</td><td>SMAVRIS</td><td>515.123.7777</td><td>07-JUN-02</td><td>HR_REP</td><td>6500</td><td> - </td><td>101</td><td>40</td></tr><tr><td>204</td><td>Hermann</td><td>Baer</td><td>HBAER</td><td>515.123.8888</td><td>07-JUN-02</td><td>PR_REP</td><td>10000</td><td> - </td><td>101</td><td>70</td></tr><tr><td>205</td><td>Shelley</td><td>Higgins</td><td>SHIGGINS</td><td>515.123.8080</td><td>07-JUN-02</td><td>AC_MGR</td><td>12008</td><td> - </td><td>101</td><td>110</td></tr><tr><td>206</td><td>William</td><td>Gietz</td><td>WGIETZ</td><td>515.123.8181</td><td>07-JUN-02</td><td>AC_ACCOUNT</td><td>8300</td><td> - </td><td>205</td><td>110</td></tr><tr><td>100</td><td>Steven</td><td>King</td><td>SKING</td><td>515.123.4567</td><td>17-JUN-03</td><td>AD_PRES</td><td>24000</td><td> - </td><td> - </td><td>90</td></tr><tr><td>101</td><td>Neena</td><td>Kochhar</td><td>NKOCHHAR</td><td>515.123.4568</td><td>21-SEP-05</td><td>AD_VP</td><td>17000</td><td> - </td><td>100</td><td>90</td></tr><tr><td>102</td><td>Lex</td><td>De Haan</td><td>LDEHAAN</td><td>515.123.4569</td><td>13-JAN-01</td><td>AD_VP</td><td>17000</td><td> - </td><td>100</td><td>90</td></tr><tr><td>103</td><td>Alexander</td><td>Hunold</td><td>AHUNOLD</td><td>590.423.4567</td><td>03-JAN-06</td><td>IT_PROG</td><td>9000</td><td> - </td><td>102</td><td>60</td></tr><tr><td>104</td><td>Bruce</td><td>Ernst</td><td>BERNST</td><td>590.423.4568</td><td>21-MAY-07</td><td>IT_PROG</td><td>6000</td><td> - </td><td>103</td><td>60</td></tr><tr><td>105</td><td>David</td><td>Austin</td><td>DAUSTIN</td><td>590.423.4569</td><td>25-JUN-05</td><td>IT_PROG</td><td>4800</td><td> - </td><td>103</td><td>60</td></tr><tr><td>106</td><td>Valli</td><td>Pataballa</td><td>VPATABAL</td><td>590.423.4560</td><td>05-FEB-06</td><td>IT_PROG</td><td>4800</td><td> - </td><td>103</td><td>60</td></tr><tr><td>107</td><td>Diana</td><td>Lorentz</td><td>DLORENTZ</td><td>590.423.5567</td><td>07-FEB-07</td><td>IT_PROG</td><td>4200</td><td> - </td><td>103</td><td>60</td></tr><tr><td>108</td><td>Nancy</td><td>Greenberg</td><td>NGREENBE</td><td>515.124.4569</td><td>17-AUG-02</td><td>FI_MGR</td><td>12008</td><td> - </td><td>101</td><td>100</td></tr><tr><td>109</td><td>Daniel</td><td>Faviet</td><td>DFAVIET</td><td>515.124.4169</td><td>16-AUG-02</td><td>FI_ACCOUNT</td><td>9000</td><td> - </td><td>108</td><td>100</td></tr><tr><td>110</td><td>John</td><td>Chen</td><td>JCHEN</td><td>515.124.4269</td><td>28-SEP-05</td><td>FI_ACCOUNT</td><td>8200</td><td> - </td><td>108</td><td>100</td></tr><tr><td>111</td><td>Ismael</td><td>Sciarra</td><td>ISCIARRA</td><td>515.124.4369</td><td>30-SEP-05</td><td>FI_ACCOUNT</td><td>7700</td><td> - </td><td>108</td><td>100</td></tr><tr><td>112</td><td>Jose Manuel</td><td>Urman</td><td>JMURMAN</td><td>515.124.4469</td><td>07-MAR-06</td><td>FI_ACCOUNT</td><td>7800</td><td> - </td><td>108</td><td>100</td></tr><tr><td>113</td><td>Luis</td><td>Popp</td><td>LPOPP</td><td>515.124.4567</td><td>07-DEC-07</td><td>FI_ACCOUNT</td><td>6900</td><td> - </td><td>108</td><td>100</td></tr><tr><td>114</td><td>Den</td><td>Raphaely</td><td>DRAPHEAL</td><td>515.127.4561</td><td>07-DEC-02</td><td>PU_MAN</td><td>11000</td><td> - </td><td>100</td><td>30</td></tr><tr><td>115</td><td>Alexander</td><td>Khoo</td><td>AKHOO</td><td>515.127.4562</td><td>18-MAY-03</td><td>PU_CLERK</td><td>3100</td><td> - </td><td>114</td><td>30</td></tr><tr><td>116</td><td>Shelli</td><td>Baida</td><td>SBAIDA</td><td>515.127.4563</td><td>24-DEC-05</td><td>PU_CLERK</td><td>2900</td><td> - </td><td>114</td><td>30</td></tr><tr><td>117</td><td>Sigal</td><td>Tobias</td><td>STOBIAS</td><td>515.127.4564</td><td>24-JUL-05</td><td>PU_CLERK</td><td>2800</td><td> - </td><td>114</td><td>30</td></tr><tr><td>118</td><td>Guy</td><td>Himuro</td><td>GHIMURO</td><td>515.127.4565</td><td>15-NOV-06</td><td>PU_CLERK</td><td>2600</td><td> - </td><td>114</td><td>30</td></tr><tr><td>119</td><td>Karen</td><td>Colmenares</td><td>KCOLMENA</td><td>515.127.4566</td><td>10-AUG-07</td><td>PU_CLERK</td><td>2500</td><td> - </td><td>114</td><td>30</td></tr><tr><td>120</td><td>Matthew</td><td>Weiss</td><td>MWEISS</td><td>650.123.1234</td><td>18-JUL-04</td><td>ST_MAN</td><td>8000</td><td> - </td><td>100</td><td>50</td></tr><tr><td>121</td><td>Adam</td><td>Fripp</td><td>AFRIPP</td><td>650.123.2234</td><td>10-APR-05</td><td>ST_MAN</td><td>8200</td><td> - </td><td>100</td><td>50</td></tr><tr><td>122</td><td>Payam</td><td>Kaufling</td><td>PKAUFLIN</td><td>650.123.3234</td><td>01-MAY-03</td><td>ST_MAN</td><td>7900</td><td> - </td><td>100</td><td>50</td></tr><tr><td>123</td><td>Shanta</td><td>Vollman</td><td>SVOLLMAN</td><td>650.123.4234</td><td>10-OCT-05</td><td>ST_MAN</td><td>6500</td><td> - </td><td>100</td><td>50</td></tr><tr><td>124</td><td>Kevin</td><td>Mourgos</td><td>KMOURGOS</td><td>650.123.5234</td><td>16-NOV-07</td><td>ST_MAN</td><td>5800</td><td> - </td><td>100</td><td>50</td></tr><tr><td>125</td><td>Julia</td><td>Nayer</td><td>JNAYER</td><td>650.124.1214</td><td>16-JUL-05</td><td>ST_CLERK</td><td>3200</td><td> - </td><td>120</td><td>50</td></tr><tr><td>126</td><td>Irene</td><td>Mikkilineni</td><td>IMIKKILI</td><td>650.124.1224</td><td>28-SEP-06</td><td>ST_CLERK</td><td>2700</td><td> - </td><td>120</td><td>50</td></tr><tr><td>127</td><td>James</td><td>Landry</td><td>JLANDRY</td><td>650.124.1334</td><td>14-JAN-07</td><td>ST_CLERK</td><td>2400</td><td> - </td><td>120</td><td>50</td></tr><tr><td>128</td><td>Steven</td><td>Markle</td><td>SMARKLE</td><td>650.124.1434</td><td>08-MAR-08</td><td>ST_CLERK</td><td>2200</td><td> - </td><td>120</td><td>50</td></tr><tr><td>129</td><td>Laura</td><td>Bissot</td><td>LBISSOT</td><td>650.124.5234</td><td>20-AUG-05</td><td>ST_CLERK</td><td>3300</td><td> - </td><td>121</td><td>50</td></tr><tr><td>130</td><td>Mozhe</td><td>Atkinson</td><td>MATKINSO</td><td>650.124.6234</td><td>30-OCT-05</td><td>ST_CLERK</td><td>2800</td><td> - </td><td>121</td><td>50</td></tr><tr><td>131</td><td>James</td><td>Marlow</td><td>JAMRLOW</td><td>650.124.7234</td><td>16-FEB-05</td><td>ST_CLERK</td><td>2500</td><td> - </td><td>121</td><td>50</td></tr><tr><td>132</td><td>TJ</td><td>Olson</td><td>TJOLSON</td><td>650.124.8234</td><td>10-APR-07</td><td>ST_CLERK</td><td>2100</td><td> - </td><td>121</td><td>50</td></tr><tr><td>133</td><td>Jason</td><td>Mallin</td><td>JMALLIN</td><td>650.127.1934</td><td>14-JUN-04</td><td>ST_CLERK</td><td>3300</td><td> - </td><td>122</td><td>50</td></tr><tr><td>134</td><td>Michael</td><td>Rogers</td><td>MROGERS</td><td>650.127.1834</td><td>26-AUG-06</td><td>ST_CLERK</td><td>2900</td><td> - </td><td>122</td><td>50</td></tr><tr><td>135</td><td>Ki</td><td>Gee</td><td>KGEE</td><td>650.127.1734</td><td>12-DEC-07</td><td>ST_CLERK</td><td>2400</td><td> - </td><td>122</td><td>50</td></tr><tr><td>136</td><td>Hazel</td><td>Philtanker</td><td>HPHILTAN</td><td>650.127.1634</td><td>06-FEB-08</td><td>ST_CLERK</td><td>2200</td><td> - </td><td>122</td><td>50</td></tr><tr><td>137</td><td>Renske</td><td>Ladwig</td><td>RLADWIG</td><td>650.121.1234</td><td>14-JUL-03</td><td>ST_CLERK</td><td>3600</td><td> - </td><td>123</td><td>50</td></tr><tr><td>138</td><td>Stephen</td><td>Stiles</td><td>SSTILES</td><td>650.121.2034</td><td>26-OCT-05</td><td>ST_CLERK</td><td>3200</td><td> - </td><td>123</td><td>50</td></tr><tr><td>139</td><td>John</td><td>Seo</td><td>JSEO</td><td>650.121.2019</td><td>12-FEB-06</td><td>ST_CLERK</td><td>2700</td><td> - </td><td>123</td><td>50</td></tr><tr><td>140</td><td>Joshua</td><td>Patel</td><td>JPATEL</td><td>650.121.1834</td><td>06-APR-06</td><td>ST_CLERK</td><td>2500</td><td> - </td><td>123</td><td>50</td></tr></tbody></table></div>"
      ]
     },
     "metadata": {
      "application/vnd.databricks.v1+output": {
       "addedWidgets": {},
       "aggData": [],
       "aggError": "",
       "aggOverflow": false,
       "aggSchema": [],
       "aggSeriesLimitReached": false,
       "aggType": "",
       "arguments": {},
       "columnCustomDisplayInfos": {},
       "data": [
        [
         198,
         "Donald",
         "OConnell",
         "DOCONNEL",
         "650.507.9833",
         "21-JUN-07",
         "SH_CLERK",
         2600,
         " - ",
         "124",
         50
        ],
        [
         199,
         "Douglas",
         "Grant",
         "DGRANT",
         "650.507.9844",
         "13-JAN-08",
         "SH_CLERK",
         2600,
         " - ",
         "124",
         50
        ],
        [
         200,
         "Jennifer",
         "Whalen",
         "JWHALEN",
         "515.123.4444",
         "17-SEP-03",
         "AD_ASST",
         4400,
         " - ",
         "101",
         10
        ],
        [
         201,
         "Michael",
         "Hartstein",
         "MHARTSTE",
         "515.123.5555",
         "17-FEB-04",
         "MK_MAN",
         13000,
         " - ",
         "100",
         20
        ],
        [
         202,
         "Pat",
         "Fay",
         "PFAY",
         "603.123.6666",
         "17-AUG-05",
         "MK_REP",
         6000,
         " - ",
         "201",
         20
        ],
        [
         203,
         "Susan",
         "Mavris",
         "SMAVRIS",
         "515.123.7777",
         "07-JUN-02",
         "HR_REP",
         6500,
         " - ",
         "101",
         40
        ],
        [
         204,
         "Hermann",
         "Baer",
         "HBAER",
         "515.123.8888",
         "07-JUN-02",
         "PR_REP",
         10000,
         " - ",
         "101",
         70
        ],
        [
         205,
         "Shelley",
         "Higgins",
         "SHIGGINS",
         "515.123.8080",
         "07-JUN-02",
         "AC_MGR",
         12008,
         " - ",
         "101",
         110
        ],
        [
         206,
         "William",
         "Gietz",
         "WGIETZ",
         "515.123.8181",
         "07-JUN-02",
         "AC_ACCOUNT",
         8300,
         " - ",
         "205",
         110
        ],
        [
         100,
         "Steven",
         "King",
         "SKING",
         "515.123.4567",
         "17-JUN-03",
         "AD_PRES",
         24000,
         " - ",
         " - ",
         90
        ],
        [
         101,
         "Neena",
         "Kochhar",
         "NKOCHHAR",
         "515.123.4568",
         "21-SEP-05",
         "AD_VP",
         17000,
         " - ",
         "100",
         90
        ],
        [
         102,
         "Lex",
         "De Haan",
         "LDEHAAN",
         "515.123.4569",
         "13-JAN-01",
         "AD_VP",
         17000,
         " - ",
         "100",
         90
        ],
        [
         103,
         "Alexander",
         "Hunold",
         "AHUNOLD",
         "590.423.4567",
         "03-JAN-06",
         "IT_PROG",
         9000,
         " - ",
         "102",
         60
        ],
        [
         104,
         "Bruce",
         "Ernst",
         "BERNST",
         "590.423.4568",
         "21-MAY-07",
         "IT_PROG",
         6000,
         " - ",
         "103",
         60
        ],
        [
         105,
         "David",
         "Austin",
         "DAUSTIN",
         "590.423.4569",
         "25-JUN-05",
         "IT_PROG",
         4800,
         " - ",
         "103",
         60
        ],
        [
         106,
         "Valli",
         "Pataballa",
         "VPATABAL",
         "590.423.4560",
         "05-FEB-06",
         "IT_PROG",
         4800,
         " - ",
         "103",
         60
        ],
        [
         107,
         "Diana",
         "Lorentz",
         "DLORENTZ",
         "590.423.5567",
         "07-FEB-07",
         "IT_PROG",
         4200,
         " - ",
         "103",
         60
        ],
        [
         108,
         "Nancy",
         "Greenberg",
         "NGREENBE",
         "515.124.4569",
         "17-AUG-02",
         "FI_MGR",
         12008,
         " - ",
         "101",
         100
        ],
        [
         109,
         "Daniel",
         "Faviet",
         "DFAVIET",
         "515.124.4169",
         "16-AUG-02",
         "FI_ACCOUNT",
         9000,
         " - ",
         "108",
         100
        ],
        [
         110,
         "John",
         "Chen",
         "JCHEN",
         "515.124.4269",
         "28-SEP-05",
         "FI_ACCOUNT",
         8200,
         " - ",
         "108",
         100
        ],
        [
         111,
         "Ismael",
         "Sciarra",
         "ISCIARRA",
         "515.124.4369",
         "30-SEP-05",
         "FI_ACCOUNT",
         7700,
         " - ",
         "108",
         100
        ],
        [
         112,
         "Jose Manuel",
         "Urman",
         "JMURMAN",
         "515.124.4469",
         "07-MAR-06",
         "FI_ACCOUNT",
         7800,
         " - ",
         "108",
         100
        ],
        [
         113,
         "Luis",
         "Popp",
         "LPOPP",
         "515.124.4567",
         "07-DEC-07",
         "FI_ACCOUNT",
         6900,
         " - ",
         "108",
         100
        ],
        [
         114,
         "Den",
         "Raphaely",
         "DRAPHEAL",
         "515.127.4561",
         "07-DEC-02",
         "PU_MAN",
         11000,
         " - ",
         "100",
         30
        ],
        [
         115,
         "Alexander",
         "Khoo",
         "AKHOO",
         "515.127.4562",
         "18-MAY-03",
         "PU_CLERK",
         3100,
         " - ",
         "114",
         30
        ],
        [
         116,
         "Shelli",
         "Baida",
         "SBAIDA",
         "515.127.4563",
         "24-DEC-05",
         "PU_CLERK",
         2900,
         " - ",
         "114",
         30
        ],
        [
         117,
         "Sigal",
         "Tobias",
         "STOBIAS",
         "515.127.4564",
         "24-JUL-05",
         "PU_CLERK",
         2800,
         " - ",
         "114",
         30
        ],
        [
         118,
         "Guy",
         "Himuro",
         "GHIMURO",
         "515.127.4565",
         "15-NOV-06",
         "PU_CLERK",
         2600,
         " - ",
         "114",
         30
        ],
        [
         119,
         "Karen",
         "Colmenares",
         "KCOLMENA",
         "515.127.4566",
         "10-AUG-07",
         "PU_CLERK",
         2500,
         " - ",
         "114",
         30
        ],
        [
         120,
         "Matthew",
         "Weiss",
         "MWEISS",
         "650.123.1234",
         "18-JUL-04",
         "ST_MAN",
         8000,
         " - ",
         "100",
         50
        ],
        [
         121,
         "Adam",
         "Fripp",
         "AFRIPP",
         "650.123.2234",
         "10-APR-05",
         "ST_MAN",
         8200,
         " - ",
         "100",
         50
        ],
        [
         122,
         "Payam",
         "Kaufling",
         "PKAUFLIN",
         "650.123.3234",
         "01-MAY-03",
         "ST_MAN",
         7900,
         " - ",
         "100",
         50
        ],
        [
         123,
         "Shanta",
         "Vollman",
         "SVOLLMAN",
         "650.123.4234",
         "10-OCT-05",
         "ST_MAN",
         6500,
         " - ",
         "100",
         50
        ],
        [
         124,
         "Kevin",
         "Mourgos",
         "KMOURGOS",
         "650.123.5234",
         "16-NOV-07",
         "ST_MAN",
         5800,
         " - ",
         "100",
         50
        ],
        [
         125,
         "Julia",
         "Nayer",
         "JNAYER",
         "650.124.1214",
         "16-JUL-05",
         "ST_CLERK",
         3200,
         " - ",
         "120",
         50
        ],
        [
         126,
         "Irene",
         "Mikkilineni",
         "IMIKKILI",
         "650.124.1224",
         "28-SEP-06",
         "ST_CLERK",
         2700,
         " - ",
         "120",
         50
        ],
        [
         127,
         "James",
         "Landry",
         "JLANDRY",
         "650.124.1334",
         "14-JAN-07",
         "ST_CLERK",
         2400,
         " - ",
         "120",
         50
        ],
        [
         128,
         "Steven",
         "Markle",
         "SMARKLE",
         "650.124.1434",
         "08-MAR-08",
         "ST_CLERK",
         2200,
         " - ",
         "120",
         50
        ],
        [
         129,
         "Laura",
         "Bissot",
         "LBISSOT",
         "650.124.5234",
         "20-AUG-05",
         "ST_CLERK",
         3300,
         " - ",
         "121",
         50
        ],
        [
         130,
         "Mozhe",
         "Atkinson",
         "MATKINSO",
         "650.124.6234",
         "30-OCT-05",
         "ST_CLERK",
         2800,
         " - ",
         "121",
         50
        ],
        [
         131,
         "James",
         "Marlow",
         "JAMRLOW",
         "650.124.7234",
         "16-FEB-05",
         "ST_CLERK",
         2500,
         " - ",
         "121",
         50
        ],
        [
         132,
         "TJ",
         "Olson",
         "TJOLSON",
         "650.124.8234",
         "10-APR-07",
         "ST_CLERK",
         2100,
         " - ",
         "121",
         50
        ],
        [
         133,
         "Jason",
         "Mallin",
         "JMALLIN",
         "650.127.1934",
         "14-JUN-04",
         "ST_CLERK",
         3300,
         " - ",
         "122",
         50
        ],
        [
         134,
         "Michael",
         "Rogers",
         "MROGERS",
         "650.127.1834",
         "26-AUG-06",
         "ST_CLERK",
         2900,
         " - ",
         "122",
         50
        ],
        [
         135,
         "Ki",
         "Gee",
         "KGEE",
         "650.127.1734",
         "12-DEC-07",
         "ST_CLERK",
         2400,
         " - ",
         "122",
         50
        ],
        [
         136,
         "Hazel",
         "Philtanker",
         "HPHILTAN",
         "650.127.1634",
         "06-FEB-08",
         "ST_CLERK",
         2200,
         " - ",
         "122",
         50
        ],
        [
         137,
         "Renske",
         "Ladwig",
         "RLADWIG",
         "650.121.1234",
         "14-JUL-03",
         "ST_CLERK",
         3600,
         " - ",
         "123",
         50
        ],
        [
         138,
         "Stephen",
         "Stiles",
         "SSTILES",
         "650.121.2034",
         "26-OCT-05",
         "ST_CLERK",
         3200,
         " - ",
         "123",
         50
        ],
        [
         139,
         "John",
         "Seo",
         "JSEO",
         "650.121.2019",
         "12-FEB-06",
         "ST_CLERK",
         2700,
         " - ",
         "123",
         50
        ],
        [
         140,
         "Joshua",
         "Patel",
         "JPATEL",
         "650.121.1834",
         "06-APR-06",
         "ST_CLERK",
         2500,
         " - ",
         "123",
         50
        ]
       ],
       "datasetInfos": [],
       "dbfsResultPath": null,
       "isJsonSchema": true,
       "metadata": {},
       "overflow": false,
       "plotOptions": {
        "customPlotOptions": {},
        "displayType": "table",
        "pivotAggregation": null,
        "pivotColumns": null,
        "xColumns": null,
        "yColumns": null
       },
       "removedWidgets": [],
       "schema": [
        {
         "metadata": "{}",
         "name": "EMPLOYEE_ID",
         "type": "\"integer\""
        },
        {
         "metadata": "{}",
         "name": "FIRST_NAME",
         "type": "\"string\""
        },
        {
         "metadata": "{}",
         "name": "LAST_NAME",
         "type": "\"string\""
        },
        {
         "metadata": "{}",
         "name": "EMAIL",
         "type": "\"string\""
        },
        {
         "metadata": "{}",
         "name": "PHONE_NUMBER",
         "type": "\"string\""
        },
        {
         "metadata": "{}",
         "name": "HIRE_DATE",
         "type": "\"string\""
        },
        {
         "metadata": "{}",
         "name": "JOB_ID",
         "type": "\"string\""
        },
        {
         "metadata": "{}",
         "name": "SALARY",
         "type": "\"integer\""
        },
        {
         "metadata": "{}",
         "name": "COMMISSION_PCT",
         "type": "\"string\""
        },
        {
         "metadata": "{}",
         "name": "MANAGER_ID",
         "type": "\"string\""
        },
        {
         "metadata": "{}",
         "name": "DEPARTMENT_ID",
         "type": "\"integer\""
        }
       ],
       "type": "table"
      }
     },
     "output_type": "display_data"
    },
    {
     "output_type": "stream",
     "name": "stdout",
     "output_type": "stream",
     "text": [
      "['EMPLOYEE_ID', 'FIRST_NAME', 'LAST_NAME', 'EMAIL', 'PHONE_NUMBER', 'HIRE_DATE', 'JOB_ID', 'SALARY', 'COMMISSION_PCT', 'MANAGER_ID', 'DEPARTMENT_ID']\n"
     ]
    }
   ],
   "source": [
    "# Load Employee.csv into a table\n",
    "df = spark.read.option(\"header\", True).csv(\"/Volumes/workspace/filestore/table/employees.csv\", inferSchema=True)\n",
    "df.write.mode(\"overwrite\").saveAsTable(\"default.all_employee\")\n",
    "# Show first few rows\n",
    "display(df)\n",
    "\n",
    "# Print column names\n",
    "print(df.columns)"
   ]
  },
  {
   "cell_type": "markdown",
   "metadata": {
    "application/vnd.databricks.v1+cell": {
     "cellMetadata": {},
     "inputWidgets": {},
     "nuid": "5dbf0a96-cd09-431d-979c-65ec8bb0e301",
     "showTitle": false,
     "tableResultSettingsMap": {},
     "title": ""
    }
   },
   "source": [
    "**Creating Temporary View**"
   ]
  },
  {
   "cell_type": "code",
   "execution_count": 0,
   "metadata": {
    "application/vnd.databricks.v1+cell": {
     "cellMetadata": {
      "byteLimit": 2048000,
      "implicitDf": true,
      "rowLimit": 10000
     },
     "inputWidgets": {},
     "nuid": "daf9598a-af6e-4a1e-ae5e-9bfe8d52e712",
     "showTitle": false,
     "tableResultSettingsMap": {},
     "title": ""
    }
   },
   "outputs": [
    {
     "output_type": "stream",
     "name": "stdout",
     "output_type": "stream",
     "text": [
      "+-----------+----------+---------+--------+------------+---------+----------+------+--------------+----------+-------------+\n|EMPLOYEE_ID|FIRST_NAME|LAST_NAME|   EMAIL|PHONE_NUMBER|HIRE_DATE|    JOB_ID|SALARY|COMMISSION_PCT|MANAGER_ID|DEPARTMENT_ID|\n+-----------+----------+---------+--------+------------+---------+----------+------+--------------+----------+-------------+\n|        198|    Donald| OConnell|DOCONNEL|650.507.9833|21-JUN-07|  SH_CLERK|  2600|            - |       124|           50|\n|        199|   Douglas|    Grant|  DGRANT|650.507.9844|13-JAN-08|  SH_CLERK|  2600|            - |       124|           50|\n|        200|  Jennifer|   Whalen| JWHALEN|515.123.4444|17-SEP-03|   AD_ASST|  4400|            - |       101|           10|\n|        201|   Michael|Hartstein|MHARTSTE|515.123.5555|17-FEB-04|    MK_MAN| 13000|            - |       100|           20|\n|        202|       Pat|      Fay|    PFAY|603.123.6666|17-AUG-05|    MK_REP|  6000|            - |       201|           20|\n|        203|     Susan|   Mavris| SMAVRIS|515.123.7777|07-JUN-02|    HR_REP|  6500|            - |       101|           40|\n|        204|   Hermann|     Baer|   HBAER|515.123.8888|07-JUN-02|    PR_REP| 10000|            - |       101|           70|\n|        205|   Shelley|  Higgins|SHIGGINS|515.123.8080|07-JUN-02|    AC_MGR| 12008|            - |       101|          110|\n|        206|   William|    Gietz|  WGIETZ|515.123.8181|07-JUN-02|AC_ACCOUNT|  8300|            - |       205|          110|\n|        100|    Steven|     King|   SKING|515.123.4567|17-JUN-03|   AD_PRES| 24000|            - |        - |           90|\n+-----------+----------+---------+--------+------------+---------+----------+------+--------------+----------+-------------+\n\n+---------------+\n|total_employees|\n+---------------+\n|             50|\n+---------------+\n\n"
     ]
    }
   ],
   "source": [
    "# Create a temporary view\n",
    "df.createOrReplaceTempView(\"employees_temp_view\")\n",
    "\n",
    "# Query the temporary view\n",
    "spark.sql(\"SELECT * FROM employees_temp_view LIMIT 10\").show()\n",
    "\n",
    "# Count total records\n",
    "spark.sql(\"SELECT COUNT(*) as total_employees FROM employees_temp_view\").show()"
   ]
  },
  {
   "cell_type": "markdown",
   "metadata": {
    "application/vnd.databricks.v1+cell": {
     "cellMetadata": {},
     "inputWidgets": {},
     "nuid": "913f1be2-2653-4dce-aa45-4f59fc052b71",
     "showTitle": false,
     "tableResultSettingsMap": {},
     "title": ""
    }
   },
   "source": [
    "**Creating Materialized View**"
   ]
  },
  {
   "cell_type": "code",
   "execution_count": 0,
   "metadata": {
    "application/vnd.databricks.v1+cell": {
     "cellMetadata": {
      "byteLimit": 2048000,
      "rowLimit": 10000
     },
     "inputWidgets": {},
     "nuid": "f3b33211-dfc5-41dc-91e3-ff7ddb38bb1d",
     "showTitle": false,
     "tableResultSettingsMap": {},
     "title": ""
    }
   },
   "outputs": [
    {
     "output_type": "stream",
     "name": "stdout",
     "output_type": "stream",
     "text": [
      "+-----------+----------+---------+--------+------------+---------+----------+------+--------------+----------+-------------+\n|EMPLOYEE_ID|FIRST_NAME|LAST_NAME|   EMAIL|PHONE_NUMBER|HIRE_DATE|    JOB_ID|SALARY|COMMISSION_PCT|MANAGER_ID|DEPARTMENT_ID|\n+-----------+----------+---------+--------+------------+---------+----------+------+--------------+----------+-------------+\n|        198|    Donald| OConnell|DOCONNEL|650.507.9833|21-JUN-07|  SH_CLERK|  2600|            - |       124|           50|\n|        199|   Douglas|    Grant|  DGRANT|650.507.9844|13-JAN-08|  SH_CLERK|  2600|            - |       124|           50|\n|        200|  Jennifer|   Whalen| JWHALEN|515.123.4444|17-SEP-03|   AD_ASST|  4400|            - |       101|           10|\n|        201|   Michael|Hartstein|MHARTSTE|515.123.5555|17-FEB-04|    MK_MAN| 13000|            - |       100|           20|\n|        202|       Pat|      Fay|    PFAY|603.123.6666|17-AUG-05|    MK_REP|  6000|            - |       201|           20|\n|        203|     Susan|   Mavris| SMAVRIS|515.123.7777|07-JUN-02|    HR_REP|  6500|            - |       101|           40|\n|        204|   Hermann|     Baer|   HBAER|515.123.8888|07-JUN-02|    PR_REP| 10000|            - |       101|           70|\n|        205|   Shelley|  Higgins|SHIGGINS|515.123.8080|07-JUN-02|    AC_MGR| 12008|            - |       101|          110|\n|        206|   William|    Gietz|  WGIETZ|515.123.8181|07-JUN-02|AC_ACCOUNT|  8300|            - |       205|          110|\n|        100|    Steven|     King|   SKING|515.123.4567|17-JUN-03|   AD_PRES| 24000|            - |        - |           90|\n+-----------+----------+---------+--------+------------+---------+----------+------+--------------+----------+-------------+\n\n"
     ]
    }
   ],
   "source": [
    "# Create a Delta table that acts like a materialized view\n",
    "df.write \\\n",
    "    .format(\"delta\") \\\n",
    "    .mode(\"overwrite\") \\\n",
    "    .saveAsTable(\"employee_db.employees_materialized\")\n",
    "\n",
    "# Query the materialized view\n",
    "spark.sql(\"SELECT * FROM employee_db.employees_materialized LIMIT 10\").show()"
   ]
  },
  {
   "cell_type": "code",
   "execution_count": 0,
   "metadata": {
    "application/vnd.databricks.v1+cell": {
     "cellMetadata": {
      "byteLimit": 2048000,
      "rowLimit": 10000
     },
     "inputWidgets": {},
     "nuid": "1d2ba5be-42ae-45b6-ab34-ff77ab0f66f4",
     "showTitle": false,
     "tableResultSettingsMap": {},
     "title": ""
    }
   },
   "outputs": [
    {
     "output_type": "stream",
     "name": "stdout",
     "output_type": "stream",
     "text": [
      "+--------+-------------------+-----------+\n|database|          tableName|isTemporary|\n+--------+-------------------+-----------+\n| default|       all_employee|      false|\n| default|          employees|      false|\n| default|         people_10m|      false|\n|        |employees_temp_view|       true|\n+--------+-------------------+-----------+\n\n+-----------+--------------------+-----------+\n|   database|           tableName|isTemporary|\n+-----------+--------------------+-----------+\n|employee_db|employees_materia...|      false|\n|           | employees_temp_view|       true|\n+-----------+--------------------+-----------+\n\n"
     ]
    }
   ],
   "source": [
    "# List all temporary views\n",
    "spark.sql(\"SHOW TABLES\").show()\n",
    "\n",
    "# List views in specific database\n",
    "spark.sql(\"SHOW TABLES IN employee_db\").show()\n"
   ]
  }
 ],
 "metadata": {
  "application/vnd.databricks.v1+notebook": {
   "computePreferences": null,
   "dashboards": [],
   "environmentMetadata": {
    "base_environment": "",
    "environment_version": "2"
   },
   "inputWidgetPreferences": null,
   "language": "python",
   "notebookMetadata": {
    "mostRecentlyExecutedCommandWithImplicitDF": {
     "commandId": -1,
     "dataframes": [
      "_sqldf"
     ]
    },
    "pythonIndentUnit": 4
   },
   "notebookName": "Views_prac",
   "widgets": {}
  },
  "language_info": {
   "name": "python"
  }
 },
 "nbformat": 4,
 "nbformat_minor": 0
}